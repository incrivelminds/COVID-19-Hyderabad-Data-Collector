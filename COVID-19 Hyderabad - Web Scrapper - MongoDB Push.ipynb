{
 "cells": [
  {
   "cell_type": "code",
   "execution_count": null,
   "metadata": {
    "collapsed": true
   },
   "outputs": [],
   "source": [
    "import pandas as pd\n",
    "\n",
    "from urllib.request import urlopen\n",
    "from bs4 import BeautifulSoup\n",
    "\n",
    "import pymongo\n",
    "\n",
    "from datetime import datetime"
   ]
  },
  {
   "cell_type": "code",
   "execution_count": null,
   "metadata": {
    "collapsed": true
   },
   "outputs": [],
   "source": [
    "# read data from GHMC website\n",
    "url = \"https://www.ghmc.gov.in/covid_details.aspx\"\n",
    "html = urlopen(url)\n",
    "soup = BeautifulSoup(html, 'lxml')"
   ]
  },
  {
   "cell_type": "code",
   "execution_count": null,
   "metadata": {
    "collapsed": false
   },
   "outputs": [],
   "source": [
    "list_rows = [] # to append cleaned data\n",
    "rows = soup.find_all('tr') # read all table rows\n",
    "\n",
    "# data cleanup\n",
    "for row in rows:\n",
    "    row_details = (row.find_all('th') or row.find_all('td'))\n",
    "    str_cells = str(row_details)\n",
    "    cleantext = BeautifulSoup(str_cells, \"lxml\").get_text().replace(\"\\n\",\"\").replace(\"[\",\"\").replace(\"]\",\"\")\n",
    "    list_rows.append(cleantext)\n",
    "    \n",
    "final_df = pd.DataFrame(list_rows) # append rows to data frame\n",
    "\n",
    "final_df = final_df[0].str.split(',', expand=True) # split data to columns \n",
    "final_df.fillna('Unavailable', inplace = True)\n",
    "\n",
    "# make first row as header \n",
    "new_header = final_df.iloc[0] \n",
    "final_df = final_df[1:] \n",
    "final_df.columns = new_header \n",
    "final_df.rename(columns={'Mandal Name': 'Mandal'}, inplace = True)\n",
    "\n",
    "final_df.reset_index(drop = True, inplace = True)\n",
    "final_df.columns = final_df.columns.str.strip()\n",
    "final_df.drop(['Unavailable'], axis = 1, inplace = True)\n",
    "\n",
    "final_df = final_df.apply(lambda x: x.astype(str).str.lstrip())\n",
    "final_df = final_df.apply(lambda x: x.astype(str).str.capitalize())\n",
    "\n",
    "final_df.Gender = final_df.Gender.replace('M', \"Male\")\n",
    "final_df.Gender = final_df.Gender.replace('F', \"Female\")\n",
    "final_df.Gender = final_df.Gender.replace('', \"N/A\")\n",
    "final_df.Gender = final_df.Gender.replace('-', \"N/A\")\n",
    "\n",
    "today = datetime.today()\n",
    "final_df['data_extract_date'] = today"
   ]
  },
  {
   "cell_type": "code",
   "execution_count": null,
   "metadata": {
    "collapsed": false
   },
   "outputs": [],
   "source": [
    "# push to mongo cluster\n",
    "\n",
    "client = pymongo.MongoClient(\"<DB Connection link><login details>\")\n",
    "db = client.covid19hyderabad\n",
    "covid19hyderabad = db.covid19hyderabad\n",
    "covid19hyderabad.insert_many(final_df.to_dict('records'))"
   ]
  },
  {
   "cell_type": "code",
   "execution_count": null,
   "metadata": {
    "collapsed": true
   },
   "outputs": [],
   "source": []
  }
 ],
 "metadata": {
  "anaconda-cloud": {},
  "kernelspec": {
   "display_name": "Python [default]",
   "language": "python",
   "name": "python3"
  },
  "language_info": {
   "codemirror_mode": {
    "name": "ipython",
    "version": 3
   },
   "file_extension": ".py",
   "mimetype": "text/x-python",
   "name": "python",
   "nbconvert_exporter": "python",
   "pygments_lexer": "ipython3",
   "version": "3.5.2"
  }
 },
 "nbformat": 4,
 "nbformat_minor": 1
}
